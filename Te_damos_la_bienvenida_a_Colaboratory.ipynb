{
  "cells": [
    {
      "cell_type": "markdown",
      "metadata": {
        "id": "view-in-github",
        "colab_type": "text"
      },
      "source": [
        "<a href=\"https://colab.research.google.com/github/M-Velazco/Praticas/blob/main/Te_damos_la_bienvenida_a_Colaboratory.ipynb\" target=\"_parent\"><img src=\"https://colab.research.google.com/assets/colab-badge.svg\" alt=\"Open In Colab\"/></a>"
      ]
    },
    {
      "cell_type": "code",
      "source": [
        "# 1. Muestre por consola el mundo es maravilloso aun en estos momentos tan difíciles.\n",
        "hi_world=\"El mundo es maravilloso aun en estos momentos tan difíciles\"\n",
        "\n",
        "print(hi_world)\n"
      ],
      "metadata": {
        "colab": {
          "base_uri": "https://localhost:8080/"
        },
        "id": "JZlt71_ylz8N",
        "outputId": "482c60b9-9707-4cb2-8b93-a21173a7a8cd"
      },
      "execution_count": 1,
      "outputs": [
        {
          "output_type": "stream",
          "name": "stdout",
          "text": [
            "El mundo es maravilloso aun en estos momentos tan difíciles\n"
          ]
        }
      ]
    },
    {
      "cell_type": "code",
      "source": [
        "#2. Imprima el resultado de las cinco operaciones matemática suma, resta, multiplicación,\n",
        "#división.\n",
        "a=67\n",
        "b=93\n",
        "\n",
        "m=a+b\n",
        "d=a-b\n",
        "v=a*b\n",
        "h=a/b\n",
        "\n",
        "print(m)\n",
        "\n",
        "print(d)\n",
        "\n",
        "print(v)\n",
        "\n",
        "print(h)"
      ],
      "metadata": {
        "colab": {
          "base_uri": "https://localhost:8080/"
        },
        "id": "LdWPIyYTmllo",
        "outputId": "6f5cb6e9-dd3d-45d7-a329-ff197f781bdb"
      },
      "execution_count": 3,
      "outputs": [
        {
          "output_type": "stream",
          "name": "stdout",
          "text": [
            "160\n",
            "-26\n",
            "6231\n",
            "0.7204301075268817\n"
          ]
        }
      ]
    },
    {
      "cell_type": "code",
      "source": [
        "#3. Diseñar un algoritmo que promedie 3 notas, si este es mayor o igual a 3.8, aprobó de lo\n",
        "#contrario no aprobó,\n",
        "\n",
        "nota1 = float(input(\"Ingrese la nota 1: \"))\n",
        "nota2 = float(input(\"Ingrese la nota 2: \"))\n",
        "nota3 = float(input(\"Ingrese la nota 3: \"))\n",
        "\n",
        "promedio = (nota1 + nota2 + nota3) / 3\n",
        "\n",
        "if promedio >= 3.8:\n",
        "    print(\"Aprobado\")\n",
        "    print(\"su promedio es\",promedio)\n",
        "else:\n",
        "    print(\"no aprobó\")\n",
        "\n",
        "    print(\"su promedio es\",promedio)"
      ],
      "metadata": {
        "id": "1bGVojTonFXk"
      },
      "execution_count": null,
      "outputs": []
    },
    {
      "cell_type": "code",
      "source": [
        "#4. Le han contrato a usted para diseñar un programa de relaciones humanas que contenga los\n",
        "#siguientes puntos:\n",
        "#Prueba practica: oscila entre 40.\n",
        "#• Prueba psicológica:30 puntos\n",
        "#• Prueba técnica:20\n",
        "#• Hoja de vida:10\n",
        "#Si la suma de los puntajes da mas de 70 puntos el postulante será contratado, de lo contrario\n",
        "#aplazado.\n",
        "\n",
        "# Pedir al usuario que ingrese los puntajes de cada prueba\n",
        "practica = int(input(\" puntaje de la prueba práctica (de 0 a 40): \"))\n",
        "psicologica = int(input(\" puntaje de la prueba psicológica (de 0 a 30): \"))\n",
        "tecnica = int(input(\" puntaje de la prueba técnica (de 0 a 20): \"))\n",
        "hoja_vida = int(input(\" puntaje de la hoja de vida (de 0 a 10): \"))\n",
        "\n",
        "# Calcular la suma de los puntajes\n",
        "suma_puntajes = practica + psicologica + tecnica + hoja_vida\n",
        "\n",
        "# Verificar si la suma de los puntajes es mayor o igual a 70 y mostrar el resultado\n",
        "if suma_puntajes >= 70:\n",
        "    print(\"El postulante ha sido contratado\")\n",
        "else:\n",
        "    print(\"El puntaje del postulado ha sido \",suma_puntajes,\" Por lo tanto el postulante ha sido aplazado\")"
      ],
      "metadata": {
        "id": "7F7nxA-TnUnv"
      },
      "execution_count": null,
      "outputs": []
    },
    {
      "cell_type": "code",
      "source": [
        "5. Concatenar su nombre y apellido\n"
      ],
      "metadata": {
        "id": "gGZi9x8CnpLc"
      },
      "execution_count": null,
      "outputs": []
    },
    {
      "cell_type": "code",
      "source": [
        "nombre= ' Magdy'\n",
        "apellido1= ' Velazco'\n",
        "apellido2= ' Velazco'\n",
        "\n",
        "Nombre_concatenado = nombre+ apellido1+ apellido2\n",
        "print(nombre)\n",
        "print(apellido1)\n",
        "print(apellido2)\n",
        "\n",
        "print(' su nombre completo es')\n",
        "print(Nombre_concatenado)"
      ],
      "metadata": {
        "id": "i4Jc2umUnp8P"
      },
      "execution_count": null,
      "outputs": []
    },
    {
      "cell_type": "code",
      "source": [
        "6. Convertir de minúsculas a mayúsculas"
      ],
      "metadata": {
        "id": "h9sYjhpknvqh"
      },
      "execution_count": null,
      "outputs": []
    },
    {
      "cell_type": "code",
      "source": [
        "texto= 'Velazco'\n",
        "\n",
        "print(texto)\n",
        "TEXTO=texto.upper()\n",
        "print(TEXTO)\n"
      ],
      "metadata": {
        "colab": {
          "base_uri": "https://localhost:8080/"
        },
        "id": "vwRrkgJjnwcn",
        "outputId": "2c118cae-ea9c-4fa5-8bc7-67c975d0141c"
      },
      "execution_count": 4,
      "outputs": [
        {
          "output_type": "stream",
          "name": "stdout",
          "text": [
            "Velazco\n",
            "VELAZCO\n"
          ]
        }
      ]
    },
    {
      "cell_type": "code",
      "source": [
        "# 7. Convertir a mayúsculas la primera letra\n",
        "\n",
        "texto= 'magdy'\n",
        "print(texto)\n",
        "\n",
        "Texto= texto.capitalize()\n",
        "print(Texto)"
      ],
      "metadata": {
        "colab": {
          "base_uri": "https://localhost:8080/"
        },
        "id": "f6BBHhGen5iq",
        "outputId": "8ec0848e-5d35-45ee-e1db-625f17523a63"
      },
      "execution_count": 7,
      "outputs": [
        {
          "output_type": "stream",
          "name": "stdout",
          "text": [
            "magdy\n",
            "Magdy\n"
          ]
        }
      ]
    },
    {
      "cell_type": "code",
      "source": [
        "#8. Centrar el texto: “La vida es la prioridad del ser humano”\n",
        "\n",
        "Texto = 'La vida es la prioridad del ser humano'\n",
        "\n",
        "print(Texto)\n",
        "\n",
        "centrado = Texto.center( 50, ' ')\n",
        "\n",
        "print(centrado)"
      ],
      "metadata": {
        "colab": {
          "base_uri": "https://localhost:8080/"
        },
        "id": "3m9F1U6QoDzh",
        "outputId": "6891578e-7ec1-4460-89c5-fbf548c1ed68"
      },
      "execution_count": 8,
      "outputs": [
        {
          "output_type": "stream",
          "name": "stdout",
          "text": [
            "La vida es la prioridad del ser humano\n",
            "      La vida es la prioridad del ser humano      \n"
          ]
        }
      ]
    },
    {
      "cell_type": "code",
      "source": [
        "#9. Diseñe un algoritmo que muestre los números en del 1 al 10\n",
        "\n",
        "for i in range(1, 11):\n",
        "    print(i)"
      ],
      "metadata": {
        "colab": {
          "base_uri": "https://localhost:8080/"
        },
        "id": "lpZhdxxKoJ6z",
        "outputId": "7fd38da4-0d26-403c-80b0-ab218c14274d"
      },
      "execution_count": 9,
      "outputs": [
        {
          "output_type": "stream",
          "name": "stdout",
          "text": [
            "1\n",
            "2\n",
            "3\n",
            "4\n",
            "5\n",
            "6\n",
            "7\n",
            "8\n",
            "9\n",
            "10\n"
          ]
        }
      ]
    },
    {
      "cell_type": "code",
      "source": [
        "#10. Leer números enteros de teclado, hasta que el usuario ingrese el 1.5. Finalmente, mostrar\n",
        "#la sumatoria de todos los números ingresados.\n",
        "\n",
        "suma=0\n",
        "\n",
        "while True:\n",
        "      num = input(\"ingresa el numero que deseas\")\n",
        "      if num == '1.5':\n",
        "          break\n",
        "      else:\n",
        "          suma += int(num)\n",
        "\n",
        "print(\"la sumatoria de los numeroes es\",suma)"
      ],
      "metadata": {
        "colab": {
          "base_uri": "https://localhost:8080/"
        },
        "id": "Ymb2zD5GoQtz",
        "outputId": "1941d9e1-a0f4-4036-9c99-033e4952e9df"
      },
      "execution_count": null,
      "outputs": [
        {
          "name": "stdout",
          "output_type": "stream",
          "text": [
            "ingresa el numero que deseas1\n",
            "ingresa el numero que deseas2\n",
            "ingresa el numero que deseas3\n",
            "ingresa el numero que deseas4\n",
            "ingresa el numero que deseas5\n",
            "ingresa el numero que deseas6\n",
            "ingresa el numero que deseas7\n",
            "ingresa el numero que deseas8\n",
            "ingresa el numero que deseas9\n",
            "ingresa el numero que deseas10\n",
            "ingresa el numero que deseas11\n",
            "ingresa el numero que deseas12\n",
            "ingresa el numero que deseas13\n",
            "ingresa el numero que deseas14\n",
            "ingresa el numero que deseas15\n",
            "ingresa el numero que deseas16\n",
            "ingresa el numero que deseas17\n",
            "ingresa el numero que deseas18\n",
            "ingresa el numero que deseas19\n",
            "ingresa el numero que deseas20\n",
            "ingresa el numero que deseas21\n",
            "ingresa el numero que deseas22\n",
            "ingresa el numero que deseas23\n",
            "ingresa el numero que deseas24\n",
            "ingresa el numero que deseas25\n",
            "ingresa el numero que deseas26\n",
            "ingresa el numero que deseas27\n",
            "ingresa el numero que deseas28\n"
          ]
        }
      ]
    }
  ],
  "metadata": {
    "colab": {
      "name": "Te damos la bienvenida a Colaboratory",
      "toc_visible": true,
      "provenance": [],
      "include_colab_link": true
    },
    "kernelspec": {
      "display_name": "Python 3",
      "name": "python3"
    }
  },
  "nbformat": 4,
  "nbformat_minor": 0
}