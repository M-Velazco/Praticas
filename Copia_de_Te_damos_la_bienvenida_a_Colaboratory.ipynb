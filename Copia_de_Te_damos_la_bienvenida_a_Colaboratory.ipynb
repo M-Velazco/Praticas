{
  "cells": [
    {
      "cell_type": "markdown",
      "metadata": {
        "id": "view-in-github",
        "colab_type": "text"
      },
      "source": [
        "<a href=\"https://colab.research.google.com/github/M-Velazco/Praticas/blob/main/Copia_de_Te_damos_la_bienvenida_a_Colaboratory.ipynb\" target=\"_parent\"><img src=\"https://colab.research.google.com/assets/colab-badge.svg\" alt=\"Open In Colab\"/></a>"
      ]
    },
    {
      "cell_type": "code",
      "source": [
        "# 1. Muestre por consola el mundo es maravilloso aun en estos momentos tan difíciles.\n",
        "hi_world=\"El mundo es maravilloso aun en estos momentos tan difíciles\"\n",
        "\n",
        "print(hi_world)\n"
      ],
      "metadata": {
        "id": "JZlt71_ylz8N",
        "outputId": "482c60b9-9707-4cb2-8b93-a21173a7a8cd",
        "colab": {
          "base_uri": "https://localhost:8080/"
        }
      },
      "execution_count": null,
      "outputs": [
        {
          "output_type": "stream",
          "name": "stdout",
          "text": [
            "El mundo es maravilloso aun en estos momentos tan difíciles\n"
          ]
        }
      ]
    },
    {
      "cell_type": "code",
      "source": [
        "#2. Imprima el resultado de las cinco operaciones matemática suma, resta, multiplicación,\n",
        "#división.\n",
        "a=67\n",
        "b=120\n",
        "\n",
        "m=a+b\n",
        "d=a-b\n",
        "v=a*b\n",
        "h=a/b\n",
        "\n",
        "print(m)\n",
        "print(d)\n",
        "print(v)\n",
        "print(h)"
      ],
      "metadata": {
        "id": "LdWPIyYTmllo",
        "outputId": "1e9b2844-bdc1-4544-b8b4-c51bed2d3843",
        "colab": {
          "base_uri": "https://localhost:8080/"
        }
      },
      "execution_count": 7,
      "outputs": [
        {
          "output_type": "stream",
          "name": "stdout",
          "text": [
            "187\n",
            "-53\n",
            "8040\n",
            "0.5583333333333333\n"
          ]
        }
      ]
    },
    {
      "cell_type": "code",
      "source": [
        "#3. Diseñar un algoritmo que promedie 3 notas, si este es mayor o igual a 3.8, aprobó de lo\n",
        "#contrario no aprobó,\n",
        "\n",
        "nota1 = float(input(\"Ingrese la nota 1: \"))\n",
        "nota2 = float(input(\"Ingrese la nota 2: \"))\n",
        "nota3 = float(input(\"Ingrese la nota 3: \"))\n",
        "\n",
        "promedio = (nota1 + nota2 + nota3) / 3\n",
        "\n",
        "if promedio >= 3.8:\n",
        "    print(\"Aprobado\")\n",
        "    print(\"su promedio es\",promedio)\n",
        "else:\n",
        "    print(\"no aprobó\")\n",
        "\n",
        "    print(\"su promedio es\",promedio)"
      ],
      "metadata": {
        "id": "1bGVojTonFXk",
        "colab": {
          "base_uri": "https://localhost:8080/"
        },
        "outputId": "d08b72fa-ebbc-402a-9cad-3bca60daaf02"
      },
      "execution_count": 1,
      "outputs": [
        {
          "output_type": "stream",
          "name": "stdout",
          "text": [
            "Ingrese la nota 1: 4.1\n",
            "Ingrese la nota 2: 5.4\n",
            "Ingrese la nota 3: 2.1\n",
            "Aprobado\n",
            "su promedio es 3.8666666666666667\n"
          ]
        }
      ]
    },
    {
      "cell_type": "code",
      "source": [
        "#4. Le han contrato a usted para diseñar un programa de relaciones humanas que contenga los\n",
        "#siguientes puntos:\n",
        "#Prueba practica: oscila entre 40.\n",
        "#• Prueba psicológica:30 puntos\n",
        "#• Prueba técnica:20\n",
        "#• Hoja de vida:10\n",
        "#Si la suma de los puntajes da mas de 70 puntos el postulante será contratado, de lo contrario\n",
        "#aplazado.\n",
        "\n",
        "# Pedir al usuario que ingrese los puntajes de cada prueba\n",
        "practica = int(input(\" puntaje de la prueba práctica (de 0 a 40): \"))\n",
        "psicologica = int(input(\" puntaje de la prueba psicológica (de 0 a 30): \"))\n",
        "tecnica = int(input(\" puntaje de la prueba técnica (de 0 a 20): \"))\n",
        "hoja_vida = int(input(\" puntaje de la hoja de vida (de 0 a 10): \"))\n",
        "\n",
        "# Calcular la suma de los puntajes\n",
        "suma_puntajes = practica + psicologica + tecnica + hoja_vida\n",
        "\n",
        "# Verificar si la suma de los puntajes es mayor o igual a 70 y mostrar el resultado\n",
        "if suma_puntajes >= 70:\n",
        "    print(\"El postulante ha sido contratado\")\n",
        "else:\n",
        "    print(\"El puntaje del postulado ha sido \",suma_puntajes,\" Por lo tanto el postulante ha sido aplazado\")"
      ],
      "metadata": {
        "colab": {
          "base_uri": "https://localhost:8080/"
        },
        "id": "mIzywDlVtJXy",
        "outputId": "9a45c126-3c8d-4943-ae97-c723f5d0c747"
      },
      "execution_count": 6,
      "outputs": [
        {
          "output_type": "stream",
          "name": "stdout",
          "text": [
            " puntaje de la prueba práctica (de 0 a 40): 18\n",
            " puntaje de la prueba psicológica (de 0 a 30): 7\n",
            " puntaje de la prueba técnica (de 0 a 20): 20\n",
            " puntaje de la hoja de vida (de 0 a 10): 10\n",
            "El puntaje del postulado ha sido  55  Por lo tanto el postulante ha sido aplazado\n"
          ]
        }
      ]
    },
    {
      "cell_type": "code",
      "source": [
        "#5. Concatenar su nombre y apellido\n",
        "\n",
        "nombre= ' Magdy'\n",
        "apellido1= ' Velazco'\n",
        "apellido2= ' Velazco'\n",
        "edad=\"18 años\"\n",
        "\n",
        "Nombre_concatenado = nombre+ apellido1+ apellido2+edad\n",
        "print(nombre)\n",
        "print(apellido1)\n",
        "print(apellido2)\n",
        "print(edad)\n",
        "\n",
        "print(' su nombre completo es')\n",
        "print(Nombre_concatenado)"
      ],
      "metadata": {
        "id": "i4Jc2umUnp8P",
        "colab": {
          "base_uri": "https://localhost:8080/"
        },
        "outputId": "b4c1e25e-6b52-4fbe-f18c-4c9dd49a6515"
      },
      "execution_count": 5,
      "outputs": [
        {
          "output_type": "stream",
          "name": "stdout",
          "text": [
            " Magdy\n",
            " Velazco\n",
            " Velazco\n",
            "18 años\n",
            " su nombre completo es\n",
            " Magdy Velazco Velazco18 años\n"
          ]
        }
      ]
    },
    {
      "cell_type": "code",
      "source": [
        "# 6. Convertir de minúsculas a mayúsculas\n",
        "\n",
        "texto= 'Velazco'\n",
        "\n",
        "print(texto)\n",
        "TEXTO=texto.upper()\n",
        "print(TEXTO)\n"
      ],
      "metadata": {
        "id": "vwRrkgJjnwcn",
        "outputId": "288b603e-ece4-48b0-c4b3-1eb763bf8d3a",
        "colab": {
          "base_uri": "https://localhost:8080/"
        }
      },
      "execution_count": 2,
      "outputs": [
        {
          "output_type": "stream",
          "name": "stdout",
          "text": [
            "Velazco\n",
            "VELAZCO\n"
          ]
        }
      ]
    },
    {
      "cell_type": "code",
      "source": [
        "# 7. Convertir a mayúsculas la primera letra\n",
        "\n",
        "texto= 'magdy'\n",
        "print(texto)\n",
        "\n",
        "Texto= texto.capitalize()\n",
        "print(Texto)"
      ],
      "metadata": {
        "id": "f6BBHhGen5iq",
        "outputId": "8ec0848e-5d35-45ee-e1db-625f17523a63",
        "colab": {
          "base_uri": "https://localhost:8080/"
        }
      },
      "execution_count": null,
      "outputs": [
        {
          "output_type": "stream",
          "name": "stdout",
          "text": [
            "magdy\n",
            "Magdy\n"
          ]
        }
      ]
    },
    {
      "cell_type": "code",
      "source": [
        "#8. Centrar el texto: “La vida es la prioridad del ser humano”\n",
        "\n",
        "Texto = 'La vida es la prioridad del ser humano'\n",
        "\n",
        "print(Texto)\n",
        "\n",
        "centrado = Texto.center( 50, ' ')\n",
        "\n",
        "print(centrado)"
      ],
      "metadata": {
        "id": "3m9F1U6QoDzh",
        "outputId": "6891578e-7ec1-4460-89c5-fbf548c1ed68",
        "colab": {
          "base_uri": "https://localhost:8080/"
        }
      },
      "execution_count": null,
      "outputs": [
        {
          "output_type": "stream",
          "name": "stdout",
          "text": [
            "La vida es la prioridad del ser humano\n",
            "      La vida es la prioridad del ser humano      \n"
          ]
        }
      ]
    },
    {
      "cell_type": "code",
      "source": [
        "#9. Diseñe un algoritmo que muestre los números en del 1 al 10\n",
        "\n",
        "for i in range(1, 11):\n",
        "    print(i)"
      ],
      "metadata": {
        "id": "lpZhdxxKoJ6z",
        "outputId": "7fd38da4-0d26-403c-80b0-ab218c14274d",
        "colab": {
          "base_uri": "https://localhost:8080/"
        }
      },
      "execution_count": null,
      "outputs": [
        {
          "output_type": "stream",
          "name": "stdout",
          "text": [
            "1\n",
            "2\n",
            "3\n",
            "4\n",
            "5\n",
            "6\n",
            "7\n",
            "8\n",
            "9\n",
            "10\n"
          ]
        }
      ]
    },
    {
      "cell_type": "code",
      "source": [
        "#10. Leer números enteros de teclado, hasta que el usuario ingrese el 1.5. Finalmente, mostrar\n",
        "#la sumatoria de todos los números ingresados.\n",
        "\n",
        "suma=0\n",
        "\n",
        "while True:\n",
        "      num = input(\"ingresa el numero que deseas\")\n",
        "      if num == '1.5':\n",
        "          break\n",
        "      else:\n",
        "          suma += int(num)\n",
        "\n",
        "print(\"la sumatoria de los numeroes es\",suma)"
      ],
      "metadata": {
        "id": "Ymb2zD5GoQtz",
        "outputId": "dabe38f3-9933-49f2-8308-b630d99e7f5b",
        "colab": {
          "base_uri": "https://localhost:8080/"
        }
      },
      "execution_count": 4,
      "outputs": [
        {
          "output_type": "stream",
          "name": "stdout",
          "text": [
            "ingresa el numero que deseas6\n",
            "ingresa el numero que deseas7\n",
            "ingresa el numero que deseas1\n",
            "ingresa el numero que deseas2\n",
            "ingresa el numero que deseas3\n",
            "ingresa el numero que deseas4\n",
            "ingresa el numero que deseas1.5\n",
            "la sumatoria de los numeroes es 23\n"
          ]
        }
      ]
    }
  ],
  "metadata": {
    "colab": {
      "toc_visible": true,
      "provenance": [],
      "include_colab_link": true
    },
    "kernelspec": {
      "display_name": "Python 3",
      "name": "python3"
    }
  },
  "nbformat": 4,
  "nbformat_minor": 0
}