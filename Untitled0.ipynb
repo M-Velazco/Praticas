{
  "nbformat": 4,
  "nbformat_minor": 0,
  "metadata": {
    "colab": {
      "provenance": [],
      "authorship_tag": "ABX9TyNtoImSUvnYAtIjgl3BG3D/",
      "include_colab_link": true
    },
    "kernelspec": {
      "name": "python3",
      "display_name": "Python 3"
    },
    "language_info": {
      "name": "python"
    }
  },
  "cells": [
    {
      "cell_type": "markdown",
      "metadata": {
        "id": "view-in-github",
        "colab_type": "text"
      },
      "source": [
        "<a href=\"https://colab.research.google.com/github/M-Velazco/Praticas/blob/main/Untitled0.ipynb\" target=\"_parent\"><img src=\"https://colab.research.google.com/assets/colab-badge.svg\" alt=\"Open In Colab\"/></a>"
      ]
    },
    {
      "cell_type": "code",
      "source": [
        "#operaciones  basicas\n",
        "print (\"la vida es lo mas impostante del mundo\")"
      ],
      "metadata": {
        "colab": {
          "base_uri": "https://localhost:8080/"
        },
        "id": "dZfre2-QUDMh",
        "outputId": "128b269a-d2e2-4c7e-af43-cc097a45138b"
      },
      "execution_count": 2,
      "outputs": [
        {
          "output_type": "stream",
          "name": "stdout",
          "text": [
            "la vida es lo mas impostante del mundo\n"
          ]
        }
      ]
    },
    {
      "cell_type": "code",
      "source": [
        "A=40\n",
        "B=25\n",
        "C=A+B\n",
        "print(C)"
      ],
      "metadata": {
        "colab": {
          "base_uri": "https://localhost:8080/"
        },
        "id": "s4vDpdRfVDpx",
        "outputId": "88005528-36a3-4cfc-f1c4-d3404fd178ab"
      },
      "execution_count": 3,
      "outputs": [
        {
          "output_type": "stream",
          "name": "stdout",
          "text": [
            "65\n"
          ]
        }
      ]
    },
    {
      "cell_type": "code",
      "source": [
        "nombre = \"magdy\"\n",
        "apellido= \"velazco\"\n",
        "nombre_completo= nombre + apellido\n",
        "nombre_completo"
      ],
      "metadata": {
        "colab": {
          "base_uri": "https://localhost:8080/",
          "height": 35
        },
        "id": "M_TCRQ1KXlVK",
        "outputId": "fa020487-da4e-48b2-b26c-1542645a524d"
      },
      "execution_count": 19,
      "outputs": [
        {
          "output_type": "execute_result",
          "data": {
            "text/plain": [
              "'magdyvelazco'"
            ],
            "application/vnd.google.colaboratory.intrinsic+json": {
              "type": "string"
            }
          },
          "metadata": {},
          "execution_count": 19
        }
      ]
    },
    {
      "cell_type": "code",
      "source": [
        "celular=int(input(\"Danos numero celular\"))\n",
        "print(\"  este es tu numero de celular\")"
      ],
      "metadata": {
        "colab": {
          "base_uri": "https://localhost:8080/"
        },
        "id": "ZaHw6x2UMZZZ",
        "outputId": "716f8b2d-b5cc-47ef-b5ec-eae931f80982"
      },
      "execution_count": 9,
      "outputs": [
        {
          "output_type": "stream",
          "name": "stdout",
          "text": [
            "Danos numero celular3142093310\n",
            "  este es tu numero\n"
          ]
        }
      ]
    },
    {
      "cell_type": "code",
      "source": [
        "cedula=int(input(\" numero cedula\"))\n",
        "print(\"numero de identidad\")"
      ],
      "metadata": {
        "colab": {
          "base_uri": "https://localhost:8080/"
        },
        "id": "dni750LoNsj4",
        "outputId": "fe43eb06-75fd-4fea-fef9-dcfb03a65913"
      },
      "execution_count": 12,
      "outputs": [
        {
          "output_type": "stream",
          "name": "stdout",
          "text": [
            " numero cedula1081394327\n",
            "numero de identidad\n"
          ]
        }
      ]
    },
    {
      "cell_type": "code",
      "source": [
        "edad=\"18 años\"\n",
        "nacimiento = \"la plata huila\"\n",
        "pais = \"colombia\"\n",
        "lugar_completo= nacimiento + pais"
      ],
      "metadata": {
        "id": "7Ih5TXoTOzrI"
      },
      "execution_count": 23,
      "outputs": []
    },
    {
      "cell_type": "code",
      "source": [
        "from __future__ import print_function\n",
        "#Decoracion:Nombre del algoritmo\n",
        "print(\"----------------\")\n",
        "print(\"complemento5:CALCULAR MONTO A PAGAR.\")\n",
        "print(\"----------------\")\n",
        "#ENTRADAS\n",
        "print(\"ingrese costo articulo\")\n",
        "C=float(input())\n",
        "print(\"numero de docenas\")\n",
        "D=int(input())\n",
        "#procesos\n",
        "P=D*12*C\n",
        "#SALIDAS\n",
        "print(\"\\nSALIDA:\")\n",
        "print(\"-------\")\n",
        "print(\"precio del articulo:\",P)"
      ],
      "metadata": {
        "colab": {
          "base_uri": "https://localhost:8080/"
        },
        "id": "VREAcrNzQIlu",
        "outputId": "7e5f78cb-1bfe-41c9-c78e-8fa29a3c7ab4"
      },
      "execution_count": 31,
      "outputs": [
        {
          "output_type": "stream",
          "name": "stdout",
          "text": [
            "----------------\n",
            "complemento5:CALCULAR MONTO A PAGAR.\n",
            "----------------\n",
            "ingrese costo articulo\n",
            "7000\n",
            "numero de docenas\n",
            "5\n",
            "\n",
            "SALIDA:\n",
            "-------\n",
            "precio del articulo: 420000.0\n"
          ]
        }
      ]
    },
    {
      "cell_type": "code",
      "source": [
        "print(\"hola mundo\\n\")"
      ],
      "metadata": {
        "colab": {
          "base_uri": "https://localhost:8080/"
        },
        "id": "vV3Ezm_BUMJF",
        "outputId": "17651e0b-6883-48ba-ceab-7099af9c0ef2"
      },
      "execution_count": 34,
      "outputs": [
        {
          "output_type": "stream",
          "name": "stdout",
          "text": [
            "hola mundo\n",
            "\n"
          ]
        }
      ]
    },
    {
      "cell_type": "code",
      "source": [
        "print(\"hola\",end=\"  \")\n",
        "print(\"mundo\")"
      ],
      "metadata": {
        "colab": {
          "base_uri": "https://localhost:8080/"
        },
        "id": "SuHylBQPUS-k",
        "outputId": "74cdbe7c-90c1-4e17-faff-45de17bed6b2"
      },
      "execution_count": 37,
      "outputs": [
        {
          "output_type": "stream",
          "name": "stdout",
          "text": [
            "hola  mundo\n"
          ]
        }
      ]
    },
    {
      "cell_type": "code",
      "source": [
        "curso=[7,9,16,\"hola\",True]\n",
        "print(list)"
      ],
      "metadata": {
        "colab": {
          "base_uri": "https://localhost:8080/"
        },
        "id": "xZIDL-XAU76p",
        "outputId": "e144872f-0a7e-4be3-e99e-5333fe612a05"
      },
      "execution_count": 50,
      "outputs": [
        {
          "output_type": "stream",
          "name": "stdout",
          "text": [
            "<class 'list'>\n"
          ]
        }
      ]
    },
    {
      "cell_type": "code",
      "source": [
        "lista_con_elemtenos=[1,2,True,\"hola\",5.8]\n",
        "otra_lista_con_elementos=list([4,9,False])"
      ],
      "metadata": {
        "id": "MF0jZKUZXnrW"
      },
      "execution_count": 51,
      "outputs": []
    },
    {
      "cell_type": "code",
      "source": [
        "# Diseñe una lista de nombres los cuales deben contener:juan,pedro,laura,carmen y susana,imprima con salto de linea y muestrelo\n",
        "nombre=print(\"juan\\n\",\"pedro\\n\",\"laura\\n\",\"carmen\\n\",\"susana\\n\")\n"
      ],
      "metadata": {
        "colab": {
          "base_uri": "https://localhost:8080/"
        },
        "id": "NWbrmIKnYf42",
        "outputId": "94bdec15-4f71-4373-fd1c-c773430ad850"
      },
      "execution_count": 58,
      "outputs": [
        {
          "output_type": "stream",
          "name": "stdout",
          "text": [
            "juan\n",
            " pedro\n",
            " laura\n",
            " carmen\n",
            " susana\n",
            "\n"
          ]
        }
      ]
    },
    {
      "cell_type": "code",
      "source": [
        "mi_lista=[\"juan\" ,\"pedro\" ,\"laura\" ,\"carmen\" ,\"susana\"]\n",
        "print(mi_lista[0])# muestra juan(la primera posicion es 0)\n",
        "print(mi_lista[-1])#susana\n",
        "print(mi_lista[1])#pedro\n",
        "print(mi_lista[2])#laura\n",
        "print(mi_lista[-2])#carmen"
      ],
      "metadata": {
        "colab": {
          "base_uri": "https://localhost:8080/"
        },
        "id": "HWO1CMLIZ__3",
        "outputId": "4207c819-e534-428f-bfb1-82d06b8c96d3"
      },
      "execution_count": 60,
      "outputs": [
        {
          "output_type": "stream",
          "name": "stdout",
          "text": [
            "juan\n",
            "susana\n",
            "pedro\n",
            "laura\n",
            "carmen\n"
          ]
        }
      ]
    },
    {
      "cell_type": "code",
      "source": [
        "lista1=[5,7,9,2]\n",
        "lista2=[5,8,6,3]\n",
        "print=lista1 + lista2"
      ],
      "metadata": {
        "id": "wHD4omvTcgqH"
      },
      "execution_count": 63,
      "outputs": []
    },
    {
      "cell_type": "code",
      "source": [
        "Cómo agregar y remover elementos a una lista en Python"
      ],
      "metadata": {
        "id": "MMRb-Ojfdil9"
      },
      "execution_count": null,
      "outputs": []
    }
  ]
}