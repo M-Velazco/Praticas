{
  "nbformat": 4,
  "nbformat_minor": 0,
  "metadata": {
    "colab": {
      "provenance": [],
      "authorship_tag": "ABX9TyNwkh+/GF+r6I4A4vyWjpr9",
      "include_colab_link": true
    },
    "kernelspec": {
      "name": "python3",
      "display_name": "Python 3"
    },
    "language_info": {
      "name": "python"
    }
  },
  "cells": [
    {
      "cell_type": "markdown",
      "metadata": {
        "id": "view-in-github",
        "colab_type": "text"
      },
      "source": [
        "<a href=\"https://colab.research.google.com/github/M-Velazco/Praticas/blob/main/Taller_aut%C3%B3nomo_Nro_2_de_Python.ipynb\" target=\"_parent\"><img src=\"https://colab.research.google.com/assets/colab-badge.svg\" alt=\"Open In Colab\"/></a>"
      ]
    },
    {
      "cell_type": "code",
      "execution_count": 18,
      "metadata": {
        "colab": {
          "base_uri": "https://localhost:8080/"
        },
        "id": "s0CiJKAph57q",
        "outputId": "126bc376-1bfc-4140-fd4a-29c6a347ffbe"
      },
      "outputs": [
        {
          "name": "stdout",
          "output_type": "stream",
          "text": [
            "Danos numero celular3142093310\n"
          ]
        },
        {
          "output_type": "execute_result",
          "data": {
            "text/plain": [
              "3142093310"
            ]
          },
          "metadata": {},
          "execution_count": 18
        }
      ],
      "source": [
        "celular=int (input(\"Danos numero celular\"))\n",
        "Danos_numero_celular:3142093310\n",
        "celular"
      ]
    },
    {
      "cell_type": "code",
      "source": [
        "numero_documento=int (input(\"Apellido\"))\n",
        "Danos_numero_documento: 1081394327\n",
        "numero_documento\n"
      ],
      "metadata": {
        "colab": {
          "base_uri": "https://localhost:8080/"
        },
        "id": "0i8XMT4Qr57g",
        "outputId": "81bfe7e8-5c82-477c-ce94-b6e86011edcc"
      },
      "execution_count": 36,
      "outputs": [
        {
          "name": "stdout",
          "output_type": "stream",
          "text": [
            "Apellido5415415\n"
          ]
        },
        {
          "output_type": "execute_result",
          "data": {
            "text/plain": [
              "5415415"
            ]
          },
          "metadata": {},
          "execution_count": 36
        }
      ]
    },
    {
      "cell_type": "code",
      "source": [
        "# Calcular el monto a pagar por un artículo si se tiene como datos de entrada la cantidad de\n",
        "#docenas que compra y el costo por unidad de este artículo.\n",
        "\n",
        "print(\"-------------------\")\n",
        "print(\"complemento5:calcular monto a pagar.\")\n",
        "print(\"-----------------\")\n",
        "#entradas\n",
        "print(\"costo articulo\")\n",
        "c=float(input())\n",
        "print(\"numero docenas:\")\n",
        "d=int(input())\n",
        "#proceso\n",
        "p=d*12*c\n",
        "#salida\n",
        "print(\"n\\salida\")\n",
        "print(\"-------------\")\n",
        "print(\"el precio del articulo es:\",p)"
      ],
      "metadata": {
        "colab": {
          "base_uri": "https://localhost:8080/"
        },
        "id": "opl--ZOks-bQ",
        "outputId": "c6deb495-353c-4180-b2cd-67278890cf60"
      },
      "execution_count": 33,
      "outputs": [
        {
          "output_type": "stream",
          "name": "stdout",
          "text": [
            "-------------------\n",
            "complemento5:calcular monto a pagar.\n",
            "-----------------\n",
            "costo articulo\n",
            "8000\n",
            "numero docenas:\n",
            "8\n",
            "n\\salida\n",
            "-------------\n",
            "el precio del articulo es: 768000.0\n"
          ]
        }
      ]
    },
    {
      "cell_type": "code",
      "source": [
        "print(\"hello word\",sep=\" \")"
      ],
      "metadata": {
        "colab": {
          "base_uri": "https://localhost:8080/"
        },
        "id": "KAzsZtsvxOfD",
        "outputId": "d9cb8338-e165-4a3f-f0f6-bd2089bdb39f"
      },
      "execution_count": 34,
      "outputs": [
        {
          "output_type": "stream",
          "name": "stdout",
          "text": [
            "hello word\n"
          ]
        }
      ]
    },
    {
      "cell_type": "code",
      "source": [
        "print(\"Que tus sueños sean mas grandes que tus excusas\",sep=\" \")"
      ],
      "metadata": {
        "colab": {
          "base_uri": "https://localhost:8080/"
        },
        "id": "nR3ORIBFywr_",
        "outputId": "a44f2128-572c-4e48-a8c1-3f52430c8cef"
      },
      "execution_count": 37,
      "outputs": [
        {
          "output_type": "stream",
          "name": "stdout",
          "text": [
            "Que tus sueños sean mas grandes que tus excusas\n"
          ]
        }
      ]
    },
    {
      "cell_type": "code",
      "source": [
        "print(\"a\",\"hola hermosa naturaleza\",6.7,sep=\" \")\n"
      ],
      "metadata": {
        "colab": {
          "base_uri": "https://localhost:8080/"
        },
        "id": "lXBOGN_Fy9La",
        "outputId": "1c885ac6-d493-4dc8-b7e8-fbbfea88b92b"
      },
      "execution_count": 41,
      "outputs": [
        {
          "output_type": "stream",
          "name": "stdout",
          "text": [
            "a hola hermosa naturaleza 6.7\n"
          ]
        }
      ]
    },
    {
      "cell_type": "code",
      "source": [
        "print(\"hello word\",end=\"\\n\")"
      ],
      "metadata": {
        "colab": {
          "base_uri": "https://localhost:8080/"
        },
        "id": "egYZp1cxzWs1",
        "outputId": "a9812a32-bab7-43ac-8c3d-709ddfee303a"
      },
      "execution_count": 42,
      "outputs": [
        {
          "output_type": "stream",
          "name": "stdout",
          "text": [
            "hello wor\n"
          ]
        }
      ]
    },
    {
      "cell_type": "code",
      "source": [
        "print(\"que bonito dia hoy\",end=\"\\n\")"
      ],
      "metadata": {
        "colab": {
          "base_uri": "https://localhost:8080/"
        },
        "id": "FnhJU-5Tzfx9",
        "outputId": "1a9d72cb-9bc0-4b75-c50f-ee6212b827d2"
      },
      "execution_count": 44,
      "outputs": [
        {
          "output_type": "stream",
          "name": "stdout",
          "text": [
            "que bonito dia hoy\n"
          ]
        }
      ]
    },
    {
      "cell_type": "code",
      "source": [
        "savingspaul=50\n",
        "giftman=20\n",
        "giftgrandma=100\n",
        "giftgrandpa=9\n",
        "result=savingspaul+giftman+giftgrandma+giftgrandpa\n",
        "print(\"paulhas $%d.\\nMon gave him $ %d. his grandmother have his $%d.\\n\"\n",
        "\"grandpa took paul to a bar and they spend $ %d.\\n\"\n",
        "\"paul calculated his saving.he has $ %d.\"%(savingspaul,giftman,giftgrandma,giftgrandpa,result))"
      ],
      "metadata": {
        "colab": {
          "base_uri": "https://localhost:8080/"
        },
        "id": "bBqllo854Ez-",
        "outputId": "1bc31b29-b4f9-4a87-820a-5bb0f842e502"
      },
      "execution_count": 54,
      "outputs": [
        {
          "output_type": "stream",
          "name": "stdout",
          "text": [
            "paulhas $50.\n",
            "Mon gave him $ 20. his grandmother have his $100.\n",
            "grandpa took paul to a bar and they spend $ 9.\n",
            "paul calculated his saving.he has $ 179.\n"
          ]
        }
      ]
    },
    {
      "cell_type": "code",
      "source": [
        "Magdy=130\n",
        "johan=75\n",
        "stiven=80\n",
        "david=20\n",
        "result=Magdy+johan+stiven+david\n",
        "print(\"Magdy $%d.\\n johan tiene $ %d. y stiven tiene  $%d.\\n\"\n",
        "\"david llevo a daniel a un restaurante y pasan $ %d.\\n\"\n",
        "\"daniel calcula su ahorro tiene $ %d.\"%(Magdy,johan,stiven,david,result))"
      ],
      "metadata": {
        "colab": {
          "base_uri": "https://localhost:8080/"
        },
        "id": "fnUcl4wi530M",
        "outputId": "6c68e554-9e48-4a9e-8b22-e5607c2549e2"
      },
      "execution_count": 68,
      "outputs": [
        {
          "output_type": "stream",
          "name": "stdout",
          "text": [
            "Magdy $130.\n",
            " johan tiene $ 75. y stiven tiene  $80.\n",
            "david llevo a daniel a un restaurante y pasan $ 20.\n",
            "daniel calcula su ahorro tiene $ 305.\n"
          ]
        }
      ]
    },
    {
      "cell_type": "code",
      "source": [
        "#Diseñar 5 algoritmos que apliquen cada una de las funciones de entrada, salida y formato de datos."
      ],
      "metadata": {
        "id": "3Rscfptr-Bro"
      },
      "execution_count": null,
      "outputs": []
    },
    {
      "cell_type": "code",
      "source": [
        "#piñateria:algoritmo 1\n",
        "print(\"---------------\")\n",
        "print(\"complemeto:CALCULAR VENTAS.\")\n",
        "print(\"------\")\n",
        "#entradas\n",
        "print(\"articulo a comprar:\")\n",
        "e=input()\n",
        "print(\"precio articulo\")\n",
        "f=int(input())\n",
        "print(\"cantidad articulo:\")\n",
        "r=int(input())\n",
        "# formato datos\n",
        "m=f*r\n",
        "#salida\n",
        "print(\"\\nsalida:\")\n",
        "print(\"--------\")\n",
        "print(\"precio total compra\",e,m)"
      ],
      "metadata": {
        "colab": {
          "base_uri": "https://localhost:8080/"
        },
        "id": "OJab5z1M-HLZ",
        "outputId": "680d0aed-dec6-438b-b04a-4fe41f3145e8"
      },
      "execution_count": 84,
      "outputs": [
        {
          "output_type": "stream",
          "name": "stdout",
          "text": [
            "---------------\n",
            "complemeto:CALCULAR VENTAS.\n",
            "------\n",
            "articulo a comprar:\n",
            "muñeca\n",
            "precio articulo\n",
            "5000\n",
            "cantidad articulo:\n",
            "4\n",
            "\n",
            "salida:\n",
            "--------\n",
            "precio total compra muñeca 20000\n"
          ]
        }
      ]
    },
    {
      "cell_type": "code",
      "source": [
        "print(\"algoritmo 2\")\n",
        "print(\"pasteleria\")\n",
        "costo_pastel=25000\n",
        "pedido_pastel = int(input(\"ingrese el numero de pasteles que desea comprar: \"))\n",
        "total_a_pagar = pedido_pastel*costo_pastel\n",
        "print(total_a_pagar)\n",
        "\n",
        "\n",
        "\n",
        "print(\"gracias\",\"por\",\"su\",\"compra\",sep='\\n\\n')\n",
        "\n",
        "pasteleriamv = 200\n",
        "cliente1 = 100\n",
        "cliente2 = 500\n",
        "cliente3 = 50\n",
        "\n",
        "result = pasteleriamv + cliente1 + cliente2 + cliente3\n",
        "\n",
        "print(\"panaderia  $ %d. \\client1 gave him $ %d. His client2 gave him $ %d.\\n \"\n",
        "       \"cliente3 took pasteleriamv to a bar and they spent $ %d.\\n\"\n",
        "       \"pasteleria calculated his savings. he has $ %d.\"%(pasteleriamv,cliente1,cliente2,cliente3,result))"
      ],
      "metadata": {
        "colab": {
          "base_uri": "https://localhost:8080/"
        },
        "id": "XADc2lUWH1bh",
        "outputId": "a24f8407-b44f-417e-9d79-8d514baddbde"
      },
      "execution_count": 96,
      "outputs": [
        {
          "output_type": "stream",
          "name": "stdout",
          "text": [
            "algoritmo 2\n",
            "pasteleria\n",
            "ingrese el numero de pasteles que desea comprar: 2\n",
            "50000\n",
            "gracias\n",
            "\n",
            "por\n",
            "\n",
            "su\n",
            "\n",
            "compra\n",
            "panaderia  $ 200. \\client1 gave him $ 100. His client2 gave him $ 500.\n",
            " cliente3 took pasteleriamv to a bar and they spent $ 50.\n",
            "pasteleria calculated his savings. he has $ 850.\n"
          ]
        }
      ]
    },
    {
      "cell_type": "code",
      "source": [
        "#soccermv:algoritmo 3\n",
        "print(\"CALCULAR VENTAS.\")\n",
        "print(\"------\")\n",
        "#entradas\n",
        "print(\"articulo a comprar:\")\n",
        "e=input()\n",
        "print(\"precio articulo\")\n",
        "f=int(input())\n",
        "print(\"cantidad articulo:\")\n",
        "r=int(input())\n",
        "# formato datos\n",
        "soccermv=200\n",
        "cliente1=200\n",
        "cliente2=500\n",
        "cliente3=800\n",
        "print(\"soccermv $ %d. \\client1 gave him $ %d. His client2 gave him $ %d.\\n \"\n",
        "       \"cliente3 took soccermv to a bar and they spent $ %d.\\n\"\n",
        "       \"soccermv calculated his savings. he has $ %d.\"%(soccermv,cliente1,cliente2,cliente3,result))\n",
        "#salida\n",
        "print(\"\\nsalida:\")\n",
        "print(\"--------\")\n",
        "print(\"precio total compra\",e,m)"
      ],
      "metadata": {
        "colab": {
          "base_uri": "https://localhost:8080/"
        },
        "id": "fcQO2ZSpLQUg",
        "outputId": "a187873e-e819-4889-a401-13ec684ddfc9"
      },
      "execution_count": 102,
      "outputs": [
        {
          "output_type": "stream",
          "name": "stdout",
          "text": [
            "CALCULAR VENTAS.\n",
            "------\n",
            "articulo a comprar:\n",
            "balon\n",
            "precio articulo\n",
            "50000\n",
            "cantidad articulo:\n",
            "2\n",
            "soccermv $ 200. \\client1 gave him $ 200. His client2 gave him $ 500.\n",
            " cliente3 took soccermv to a bar and they spent $ 800.\n",
            "soccermv calculated his savings. he has $ 850.\n",
            "\n",
            "salida:\n",
            "--------\n",
            "precio total compra balon 20000\n"
          ]
        }
      ]
    },
    {
      "cell_type": "code",
      "source": [
        "print(\"velazco s.a\")\n",
        "input(\"articulo a vender: \")\n",
        "dato=20\n",
        "producto = int(input(\"precio del articulo: \"))\n",
        "iva= producto / dato\n",
        "total_precio= iva + producto\n",
        "print(\"precio total: \",total_precio)"
      ],
      "metadata": {
        "colab": {
          "base_uri": "https://localhost:8080/"
        },
        "id": "SEqp_XJrPPVU",
        "outputId": "2272fe54-68c2-4907-c87e-a90cf0abb97f"
      },
      "execution_count": 106,
      "outputs": [
        {
          "output_type": "stream",
          "name": "stdout",
          "text": [
            "velazco s.a\n",
            "articulo a vender: oro\n",
            "precio del articulo: 80000\n",
            "precio total:  84000.0\n"
          ]
        }
      ]
    },
    {
      "cell_type": "code",
      "source": [
        "#algoritmo 5\n",
        "print(\"peluches.\")\n",
        "print(\"------\")\n",
        "#entradas\n",
        "print(\"peluche a comprar:\")\n",
        "e=input()\n",
        "print(\"precio del peluche\")\n",
        "f=int(input())\n",
        "print(\"cantidad peluche:\")\n",
        "r=int(input())\n",
        "# formato datos\n",
        "pelucheria_peludin=60.000\n",
        "cliente1=35.500\n",
        "cliente2=75.000\n",
        "cliente3=65.350\n",
        "print(\"pelucheria_peludin $ %d. \\client1 gave him $ %d. His client2 gave him $ %d.\\n \"\n",
        "       \"cliente3 took pelucheria_peludin to a bar and they spent $ %d.\\n\"\n",
        "       \"pelucheria_peludin calculated his savings. he has $ %d.\"%(pelucheria_peludin,cliente1,cliente2,cliente3,result))\n",
        "#salida\n",
        "print(\"\\nsalida:\")\n",
        "print(\"--------\")\n",
        "print(\"precio total compra\",e,m)"
      ],
      "metadata": {
        "colab": {
          "base_uri": "https://localhost:8080/"
        },
        "id": "6UTT030vSJ7X",
        "outputId": "d9d443de-e4b2-446a-b843-49dbeccb8b07"
      },
      "execution_count": 109,
      "outputs": [
        {
          "output_type": "stream",
          "name": "stdout",
          "text": [
            "peluches.\n",
            "------\n",
            "peluche a comprar:\n",
            "oso\n",
            "precio del peluche\n",
            "85000\n",
            "cantidad peluche:\n",
            "1\n",
            "pelucheria_peludin $ 60. \\client1 gave him $ 35. His client2 gave him $ 75.\n",
            " cliente3 took pelucheria_peludin to a bar and they spent $ 65.\n",
            "pelucheria_peludin calculated his savings. he has $ 850.\n",
            "\n",
            "salida:\n",
            "--------\n",
            "precio total compra oso 20000\n"
          ]
        }
      ]
    }
  ]
}