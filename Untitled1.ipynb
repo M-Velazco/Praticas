{
  "nbformat": 4,
  "nbformat_minor": 0,
  "metadata": {
    "colab": {
      "provenance": [],
      "authorship_tag": "ABX9TyPde26yTYhIolo3Vev+aIO1",
      "include_colab_link": true
    },
    "kernelspec": {
      "name": "python3",
      "display_name": "Python 3"
    },
    "language_info": {
      "name": "python"
    }
  },
  "cells": [
    {
      "cell_type": "markdown",
      "metadata": {
        "id": "view-in-github",
        "colab_type": "text"
      },
      "source": [
        "<a href=\"https://colab.research.google.com/github/M-Velazco/Praticas/blob/main/Untitled1.ipynb\" target=\"_parent\"><img src=\"https://colab.research.google.com/assets/colab-badge.svg\" alt=\"Open In Colab\"/></a>"
      ]
    },
    {
      "cell_type": "code",
      "source": [
        "lista_appnd=[2000,2001,2002,2003,2004,2005]\n",
        "\n",
        "print(lista_appnd)\n",
        "lista_appnd.append('pedro')\n",
        "lista_appnd.append(1956)\n",
        "lista_appnd.append(True)\n",
        "lista_appnd.append(1676)\n",
        "print(lista_appnd)"
      ],
      "metadata": {
        "colab": {
          "base_uri": "https://localhost:8080/"
        },
        "id": "LUeDljQ0Vw4e",
        "outputId": "cdcc5998-b7c3-45b7-ab68-88ca50a9eba4"
      },
      "execution_count": 14,
      "outputs": [
        {
          "output_type": "stream",
          "name": "stdout",
          "text": [
            "[2000, 2001, 2002, 2003, 2004, 2005]\n",
            "[2000, 2001, 2002, 2003, 2004, 2005, 'pedro', 1956, True, 1676]\n"
          ]
        }
      ]
    },
    {
      "cell_type": "code",
      "source": [
        "# Leer una cadena de caracteres desde el teclado\n",
        "cadena =input(\"Ingrese una cadena de caracteres: \")\n",
        "\n",
        "# Calcular la longitud de la cadena\n",
        "longitud = len(cadena)\n",
        "\n",
        "# Imprimir la longitud de la cadena\n",
        "print(\"La longitud de la cadena es:\",longitud)"
      ],
      "metadata": {
        "colab": {
          "base_uri": "https://localhost:8080/"
        },
        "id": "n_7_x4vHXfVb",
        "outputId": "f7a75f3d-c0d7-42c0-f127-6938f42bbedb"
      },
      "execution_count": 13,
      "outputs": [
        {
          "output_type": "stream",
          "name": "stdout",
          "text": [
            "Ingrese una cadena de caracteres: 123456789\n",
            "La longitud de la cadena es: 9\n"
          ]
        }
      ]
    },
    {
      "cell_type": "code",
      "source": [
        "lista_del=[18,14,85,96]\n",
        "\n",
        "lista_del.pop()\n",
        "\n",
        "\n",
        "print(lista_del)"
      ],
      "metadata": {
        "colab": {
          "base_uri": "https://localhost:8080/"
        },
        "id": "tV7g05eUYsQL",
        "outputId": "b8c9c6ce-30f1-4d49-de3c-41b378bf6823"
      },
      "execution_count": 16,
      "outputs": [
        {
          "output_type": "stream",
          "name": "stdout",
          "text": [
            "[18, 14, 85]\n"
          ]
        }
      ]
    },
    {
      "cell_type": "code",
      "source": [
        "# Leer una cadena de caracteres desde el teclado\n",
        "cadena = input(\"Ingrese una cadena de caracteres: \")\n",
        "\n",
        "# Leer un caracter desde el teclado\n",
        "caracter = input(\"Ingrese un caracter a buscar en la cadena: \")\n",
        "\n",
        "# Buscar el índice del caracter en la cadena\n",
        "indice = cadena.index(caracter)\n",
        "\n",
        "# Imprimir el índice del caracter en la cadena\n",
        "print(\"El índice del caracter '\", caracter, \"' en la cadena es:\", indice)"
      ],
      "metadata": {
        "colab": {
          "base_uri": "https://localhost:8080/"
        },
        "id": "s5wzG8w-ZIdy",
        "outputId": "1ba624c0-2268-4628-9f12-d1c6dbc33544"
      },
      "execution_count": 17,
      "outputs": [
        {
          "output_type": "stream",
          "name": "stdout",
          "text": [
            "Ingrese una cadena de caracteres: 125998\n",
            "Ingrese un caracter a buscar en la cadena: 5\n",
            "El índice del caracter ' 5 ' en la cadena es: 2\n"
          ]
        }
      ]
    }
  ]
}